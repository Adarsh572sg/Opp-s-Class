{
  "nbformat": 4,
  "nbformat_minor": 0,
  "metadata": {
    "colab": {
      "provenance": []
    },
    "kernelspec": {
      "name": "python3",
      "display_name": "Python 3"
    },
    "language_info": {
      "name": "python"
    }
  },
  "cells": [
    {
      "cell_type": "code",
      "execution_count": null,
      "metadata": {
        "colab": {
          "base_uri": "https://localhost:8080/"
        },
        "id": "XrjKUy6tcVIQ",
        "outputId": "5ad47d0a-98b0-45d2-f994-c451789053ef"
      },
      "outputs": [
        {
          "output_type": "stream",
          "name": "stdout",
          "text": [
            "100\n",
            "power of ninja:  150\n",
            "health of warrior:  200\n",
            "after doubling the power\n",
            "power of ninja:  300\n"
          ]
        }
      ],
      "source": [
        "class character:\n",
        "  def __init__(self, health, damage, power):\n",
        "    self.health = health\n",
        "    self.damage=damage\n",
        "    self.power=power\n",
        "  def double_the_power(self):\n",
        "    self.power=self.power*2\n",
        "\n",
        "ninja = character(100, 50, 150)\n",
        "warrior = character(200, 30, 200)\n",
        "\n",
        "print(ninja.health)\n",
        "print(\"power of ninja: \", ninja.power)\n",
        "print(\"health of warrior: \", warrior.health)\n",
        "ninja.double_the_power()\n",
        "print(\"after doubling the power\")\n",
        "print(\"power of ninja: \", ninja.power)"
      ]
    },
    {
      "cell_type": "code",
      "source": [
        "class character:\n",
        "  def __init__(self, name, health, damage, power):\n",
        "    self.name = name\n",
        "    self.health = health\n",
        "    self.damage = damage\n",
        "    self.power = power\n",
        "  def hai(self):\n",
        "    print(\"hello i am \",self.name)\n",
        "\n",
        "\n",
        "ninja = character(\"ninja\", 100, 50, 150)\n",
        "warrior = character(\"warrior\", 200, 30, 200)\n",
        "\n",
        "print(\"power of ninja: \", ninja.power)\n",
        "\n",
        "ninja.hai()\n",
        "\n",
        "\n"
      ],
      "metadata": {
        "colab": {
          "base_uri": "https://localhost:8080/"
        },
        "id": "CSoAjDqymW1I",
        "outputId": "b662a796-744d-4c74-ebb5-aa5cc16dc4a4"
      },
      "execution_count": null,
      "outputs": [
        {
          "output_type": "stream",
          "name": "stdout",
          "text": [
            "power of ninja:  150\n",
            "hello i am  ninja\n"
          ]
        }
      ]
    },
    {
      "cell_type": "code",
      "source": [
        "class character:\n",
        "  def __init__(self, name, health, damage, power):\n",
        "    self.name = name\n",
        "    self.health = health\n",
        "    self.damage=damage\n",
        "    self.power=power\n",
        "  def double_the_power(self):\n",
        "    self.power=self.power*2\n",
        "  def hai(self):\n",
        "    print(\"hello i am \",self.name)\n",
        "  def is_alive(self):\n",
        "    if self.health <=0:\n",
        "      print(self.name,\"is dead\")\n",
        "    else:\n",
        "      print(self.name,\"is alive\")\n",
        "  def details(self):\n",
        "    print(f\"Name is: {self.name} \\n Health of: {self.health} \\n damage of: {self.damage} \\n power of: {self.power}\")\n",
        "\n",
        "ninja = character(\"ninja\", 100, 50, 150)\n",
        "warrior = character(\"warrior\", 200, 30, 200)\n",
        "\n",
        "print(ninja.health)\n",
        "print(\"power of ninja: \", ninja.power)\n",
        "print(\"health of warrior: \", warrior.health)\n",
        "ninja.double_the_power()\n",
        "print(\"after doubling the power\")\n",
        "print(\"power of ninja: \", ninja.power)\n",
        "\n",
        "ninja.hai()\n",
        "\n",
        "ninja.health = 0\n",
        "\n",
        "print(ninja.health)\n",
        "ninja.is_alive()\n",
        "ninja.details()"
      ],
      "metadata": {
        "colab": {
          "base_uri": "https://localhost:8080/"
        },
        "id": "kTGBtqTLsTjW",
        "outputId": "0b28fa27-dd03-452b-e096-a547f54c6004"
      },
      "execution_count": null,
      "outputs": [
        {
          "output_type": "stream",
          "name": "stdout",
          "text": [
            "100\n",
            "power of ninja:  150\n",
            "health of warrior:  200\n",
            "after doubling the power\n",
            "power of ninja:  300\n",
            "hello i am  ninja\n",
            "0\n",
            "ninja is dead\n",
            "Name is: ninja \n",
            " Health of: 0 \n",
            " damage of: 50 \n",
            " power of: 300\n"
          ]
        }
      ]
    },
    {
      "cell_type": "markdown",
      "source": [
        "# class attributes"
      ],
      "metadata": {
        "id": "5iaTwsMDoUKg"
      }
    },
    {
      "cell_type": "code",
      "source": [
        "class students:\n",
        "  school = \"Learn Logic Ai\"\n",
        "class students:\n",
        "  school = \"Learn Logic Ai\"\n",
        "  def __init__(self,name,age,null):\n",
        "    self.name=name\n",
        "student1 = students(\"Alice\",21,1)\n",
        "student2 = students(\"Bob\",20,5)\n",
        "del student1.name\n",
        "print(students.school)"
      ],
      "metadata": {
        "id": "rdbV_bkWwj5R",
        "colab": {
          "base_uri": "https://localhost:8080/"
        },
        "outputId": "7151cf56-feae-40af-cb50-fbd57006b302"
      },
      "execution_count": null,
      "outputs": [
        {
          "output_type": "stream",
          "name": "stdout",
          "text": [
            "Learn Logic Ai\n"
          ]
        }
      ]
    },
    {
      "cell_type": "code",
      "source": [
        "class student:\n",
        "  def __init__(self, name, id, age):\n",
        "    self.name = name\n",
        "    self.age = id\n",
        "    self.rollno = age\n",
        "\n",
        "s1 = student(\"sinaaan\",2,22)\n",
        "s2 = student(\"jaseem\", 4, 15)\n",
        "\n",
        "\n",
        "print(getattr(s1,\"name\"))\n",
        "\n",
        "setattr(s1,\"age\",20)\n",
        "print(getattr(s1,\"age\"))\n",
        "\n",
        "print(hasattr(s1,\"id\"))\n",
        "\n",
        "delattr(s1,\"age\")\n",
        "# print(s1.age)"
      ],
      "metadata": {
        "id": "wfjF2KYGpqUQ",
        "colab": {
          "base_uri": "https://localhost:8080/"
        },
        "outputId": "577b34de-108f-4644-e6cd-b8b2734a675f"
      },
      "execution_count": null,
      "outputs": [
        {
          "output_type": "stream",
          "name": "stdout",
          "text": [
            "sinaaan\n",
            "20\n",
            "False\n"
          ]
        }
      ]
    },
    {
      "cell_type": "code",
      "source": [
        "class dog:\n",
        "  def __init__(self, name, age):\n",
        "    self.name=name\n",
        "    self.age=age\n",
        "  def bark(self):\n",
        "    print(f\"{self.name} says: Bow! Bow!\")\n",
        "  def indroduce(self):\n",
        "    print(f\"My name is {self.name} and I am {self.age} years old\")\n",
        "  def sit(self):\n",
        "    print(f\"{self.name} is now sitting\")\n",
        "  def fetch(self, item):\n",
        "    print(f\"{self.name} is fetching the {item}!\")\n",
        "\n",
        "d1 = dog(\"salman-vettilapara\", 69)\n",
        "d2 = dog(\"mubasshhhhh\", 4)\n",
        "\n",
        "print(d1.name)\n",
        "print(d1.age)\n"
      ],
      "metadata": {
        "colab": {
          "base_uri": "https://localhost:8080/"
        },
        "id": "A4oWTL8Y9TZB",
        "outputId": "4d967803-0840-4283-bce9-567432f6a06f"
      },
      "execution_count": null,
      "outputs": [
        {
          "output_type": "stream",
          "name": "stdout",
          "text": [
            "salman-vettilapara\n",
            "69\n"
          ]
        }
      ]
    },
    {
      "cell_type": "markdown",
      "source": [
        "# Inheritence"
      ],
      "metadata": {
        "id": "QvO5PpQDAde3"
      }
    },
    {
      "cell_type": "markdown",
      "source": [
        "**Types of Inheritence**\n",
        "\n",
        "## single Inheritence"
      ],
      "metadata": {
        "id": "mqdcAmbYDJJu"
      }
    },
    {
      "cell_type": "code",
      "source": [
        "class animal():\n",
        "  def speak(self):\n",
        "    print(\"Animal is speaking\")\n",
        "# Child class dog inherites the base clss animal\n",
        "class dog(animal):\n",
        "  def bark(self):\n",
        "    print(\"Dog is barking\")\n",
        "\n",
        "d = dog()\n",
        "\n",
        "d.bark()\n",
        "d.speak()\n",
        "\n",
        "a = animal()\n",
        "# a.bark() it will cause error\n",
        "a.speak()"
      ],
      "metadata": {
        "id": "qwq986GIA59h",
        "colab": {
          "base_uri": "https://localhost:8080/"
        },
        "outputId": "bf328134-b957-482c-94db-81ed503c057f"
      },
      "execution_count": null,
      "outputs": [
        {
          "output_type": "stream",
          "name": "stdout",
          "text": [
            "Dog is barking\n",
            "Animal is speaking\n",
            "Animal is speaking\n"
          ]
        }
      ]
    },
    {
      "cell_type": "code",
      "source": [
        "class parent:\n",
        "  def display(self):\n",
        "    print(\"This is the parent class\")\n",
        "\n",
        "class child(parent):\n",
        "  pass\n",
        "\n",
        "obj = child()\n",
        "obj.display()"
      ],
      "metadata": {
        "colab": {
          "base_uri": "https://localhost:8080/"
        },
        "id": "BEa6zmc0gIip",
        "outputId": "13d7df46-7c78-466b-cf03-d59099d7f315"
      },
      "execution_count": null,
      "outputs": [
        {
          "output_type": "stream",
          "name": "stdout",
          "text": [
            "This is the parent class\n"
          ]
        }
      ]
    },
    {
      "cell_type": "code",
      "source": [
        "class vehicle:\n",
        "  def start(self):\n",
        "    print(\"vehicle is starting..\")\n",
        "  def stop(self):\n",
        "    print(\"vehicle is stopping..\")\n",
        "\n",
        "class car(vehicle):\n",
        "  def drive(self):\n",
        "    print(\"car is bieng driven\")\n",
        "\n",
        "my_car = car()\n",
        "my_car.start()\n",
        "my_car.drive()\n",
        "my_car.stop()"
      ],
      "metadata": {
        "colab": {
          "base_uri": "https://localhost:8080/"
        },
        "id": "X7YB0CPqgLpg",
        "outputId": "27a98256-232d-47a2-d818-5f530c10520e"
      },
      "execution_count": null,
      "outputs": [
        {
          "output_type": "stream",
          "name": "stdout",
          "text": [
            "vehicle is starting..\n",
            "car is bieng driven\n",
            "vehicle is stopping..\n"
          ]
        }
      ]
    },
    {
      "cell_type": "markdown",
      "source": [
        "# Multilevel Inheritence"
      ],
      "metadata": {
        "id": "d5sEpMYkLNVm"
      }
    },
    {
      "cell_type": "code",
      "source": [
        "class animal:\n",
        "  def speak(self):\n",
        "    print(\"Animal is speaking\")\n",
        "\n",
        "# Child class dog inherites the base clss animal\n",
        "class dog(animal):\n",
        "  def bark(self):\n",
        "    print(\"Dog is barking\")\n",
        "\n",
        "# The child calss dogchild inherits another chhild class dog\n",
        "class dogchild(dog):\n",
        "  def eat(self):\n",
        "    print(\"Eating bread...\")\n",
        "\n",
        "d = dogchild()\n",
        "d.bark()\n",
        "d.speak()\n",
        "d.eat()\n",
        "\n",
        "do = dog()\n",
        "# do.eat()\n",
        "do.bark()\n",
        "do.speak()\n",
        "\n",
        "a = animal()\n",
        "# a.bark()\n",
        "a.speak()\n",
        "#a.eat()"
      ],
      "metadata": {
        "id": "4G_4EIphLP7o",
        "colab": {
          "base_uri": "https://localhost:8080/"
        },
        "outputId": "58d083e5-3bb4-4d5d-df3c-8472e82b3020"
      },
      "execution_count": null,
      "outputs": [
        {
          "output_type": "stream",
          "name": "stdout",
          "text": [
            "Dog is barking\n",
            "Animal is speaking\n",
            "Eating bread...\n",
            "Dog is barking\n",
            "Animal is speaking\n",
            "Animal is speaking\n"
          ]
        }
      ]
    },
    {
      "cell_type": "code",
      "source": [],
      "metadata": {
        "id": "jHvsXvUMgxd5"
      },
      "execution_count": null,
      "outputs": []
    },
    {
      "cell_type": "markdown",
      "source": [
        "## Hierachiral inheritence"
      ],
      "metadata": {
        "id": "hlQdCdotVgDu"
      }
    },
    {
      "cell_type": "code",
      "source": [
        "class shape:\n",
        "  def info(self):\n",
        "    print(\"shapes have diomension\")\n",
        "\n",
        "class circle(shape):\n",
        "  def draw(self):\n",
        "    print(\"Drawing a circle\")\n",
        "\n",
        "class rectangle(shape):\n",
        "  def draw(self):\n",
        "    print(\"Drawing a rectangle\")\n",
        "\n",
        "c = circle()\n",
        "r = rectangle()\n",
        "\n",
        "c.info()\n",
        "c.draw()\n",
        "r.info()\n",
        "r.draw()"
      ],
      "metadata": {
        "id": "ENrp7JFoVlLv",
        "colab": {
          "base_uri": "https://localhost:8080/"
        },
        "outputId": "bccc0af8-33cc-49c2-8608-f4327ba71b0a"
      },
      "execution_count": null,
      "outputs": [
        {
          "output_type": "stream",
          "name": "stdout",
          "text": [
            "shapes have diomension\n",
            "Drawing a circle\n",
            "shapes have diomension\n",
            "Drawing a rectangle\n"
          ]
        }
      ]
    },
    {
      "cell_type": "markdown",
      "source": [
        "## Multiple Inheritence"
      ],
      "metadata": {
        "id": "NqvQohYiXGvu"
      }
    },
    {
      "cell_type": "code",
      "source": [
        "class person:\n",
        "  def indroduce(self):\n",
        "    print(\"I am a Person\")\n",
        "class teacher(person):\n",
        "  def teach(self):\n",
        "    print(\"I teach students\")\n",
        "class student(person):\n",
        "  def study(self):\n",
        "    print(\"I study subjects\")\n",
        "\n",
        "teacher = teacher()\n",
        "student = student()\n",
        "\n",
        "teacher.indroduce()\n",
        "teacher.teach()\n",
        "\n",
        "student.indroduce()\n",
        "student.study()\n"
      ],
      "metadata": {
        "id": "et01hCexXJXv",
        "colab": {
          "base_uri": "https://localhost:8080/"
        },
        "outputId": "389d8204-073b-4f58-87c2-91724c0b7aa4"
      },
      "execution_count": null,
      "outputs": [
        {
          "output_type": "stream",
          "name": "stdout",
          "text": [
            "I am a Person\n",
            "I teach students\n",
            "I am a Person\n",
            "I study subjects\n"
          ]
        }
      ]
    },
    {
      "cell_type": "code",
      "source": [
        "class person:\n",
        "  def indroduce(self):\n",
        "    print(\"I am a Person\")\n",
        "class teacher(person):\n",
        "  def teach(self):\n",
        "    print(\"I teach students\")\n",
        "class student(person):\n",
        "  def study(self):\n",
        "    print(\"I study subjects\")\n",
        "\n",
        "teacher = teacher()\n",
        "student = student()\n",
        "\n",
        "teacher.indroduce()\n",
        "teacher.teach()\n",
        "\n",
        "student.indroduce()\n",
        "student.study()"
      ],
      "metadata": {
        "colab": {
          "base_uri": "https://localhost:8080/"
        },
        "id": "5i7rzinwZEui",
        "outputId": "b473abd6-47aa-4408-a6e2-3992b65d4ce6"
      },
      "execution_count": null,
      "outputs": [
        {
          "output_type": "stream",
          "name": "stdout",
          "text": [
            "I am a Person\n",
            "I teach students\n",
            "I am a Person\n",
            "I study subjects\n"
          ]
        }
      ]
    },
    {
      "cell_type": "code",
      "source": [
        "class calculatio1:\n",
        "  def sum(self, a, b):\n",
        "    return a+b\n",
        "\n",
        "class calculatio2:\n",
        "  def mult(self, a, b):\n",
        "    return a*b\n",
        "\n",
        "class derived(calculatio1, calculatio2):\n",
        "  def div(self, a, b):\n",
        "    return a/b\n",
        "\n",
        "d = derived()\n",
        "\n",
        "print(d.sum(10, 20))\n",
        "print(d.mult(10, 20))\n",
        "print(d.div(10, 20))"
      ],
      "metadata": {
        "colab": {
          "base_uri": "https://localhost:8080/"
        },
        "id": "NdS0zM22gPn4",
        "outputId": "81a654f6-60c2-408f-b31c-133aed708ef7"
      },
      "execution_count": null,
      "outputs": [
        {
          "output_type": "stream",
          "name": "stdout",
          "text": [
            "30\n",
            "200\n",
            "0.5\n"
          ]
        }
      ]
    },
    {
      "cell_type": "markdown",
      "source": [
        "## 5. Hybrid Inheritence"
      ],
      "metadata": {
        "id": "_s3-Xs3Pj7HN"
      }
    },
    {
      "cell_type": "code",
      "source": [
        "class person:\n",
        "  def show(self):\n",
        "    print(\"I am a person\")\n",
        "class teacher(person):\n",
        "  def teach(self):\n",
        "    print(\"i teach students\")\n",
        "\n",
        "class staff:\n",
        "  def manage(self):\n",
        "    print(\"I manage school activities\")\n",
        "\n",
        "# hybrid inheritenc principal inherits from both teacher and staff (single + multiple)\n",
        "class principal(teacher, staff):\n",
        "  def oversea(self):\n",
        "    print(\"I oversea the entire school\")\n",
        "\n",
        "principal = principal()\n",
        "principal.show()\n",
        "principal.teach()\n",
        "principal.manage()\n",
        "principal.oversea()"
      ],
      "metadata": {
        "id": "Bj83bu8Aj9um",
        "colab": {
          "base_uri": "https://localhost:8080/"
        },
        "outputId": "73608ed5-617d-4c72-8b1b-e569322e1e72"
      },
      "execution_count": null,
      "outputs": [
        {
          "output_type": "stream",
          "name": "stdout",
          "text": [
            "I am a person\n",
            "i teach students\n",
            "I manage school activities\n",
            "I oversea the entire school\n"
          ]
        }
      ]
    },
    {
      "cell_type": "code",
      "source": [
        "class parent:\n",
        "  def greet1(self):\n",
        "    print(\"Hello from parent \")\n",
        "\n",
        "class child(parent):\n",
        "  def greet2(self):\n",
        "    super().greet1()  # calling parent method\n",
        "    print(\"Hello from child\")\n",
        "\n",
        "child = child()\n",
        "child.greet2()\n",
        "\n"
      ],
      "metadata": {
        "colab": {
          "base_uri": "https://localhost:8080/"
        },
        "id": "Z6U1xLcKOt3J",
        "outputId": "3d11c085-67e6-4f08-e5a6-7c85cac15c6a"
      },
      "execution_count": null,
      "outputs": [
        {
          "output_type": "stream",
          "name": "stdout",
          "text": [
            "Hello from parent\n",
            "Hello from child\n"
          ]
        }
      ]
    },
    {
      "cell_type": "code",
      "source": [
        "class parent:\n",
        "  def __init__(self, name):\n",
        "    self.name = name\n",
        "    print(\"parent constructor called\")\n",
        "class child(parent):\n",
        "  def __init__(self, name, age):\n",
        "    super().__init__(name)\n",
        "    self.age = age\n",
        "    print(\"Child constructor called\")\n",
        "\n",
        "child = child(\"alice\", 20)"
      ],
      "metadata": {
        "colab": {
          "base_uri": "https://localhost:8080/"
        },
        "id": "WclgxeBTUCuH",
        "outputId": "0137ea7e-9674-4b5c-a4ca-25071b4367e2"
      },
      "execution_count": null,
      "outputs": [
        {
          "output_type": "stream",
          "name": "stdout",
          "text": [
            "parent constructor called\n",
            "Child constructor called\n"
          ]
        }
      ]
    },
    {
      "cell_type": "code",
      "source": [
        "class A:\n",
        "  def show(self):\n",
        "    print(\"Class A\")\n",
        "\n",
        "class B(A):\n",
        "  def show(self):\n",
        "    super().show()\n",
        "    print(\"Class B\")\n",
        "\n",
        "class C(B):\n",
        "  def show(self):\n",
        "    super().show()\n",
        "    print(\"Class C\")\n",
        "\n",
        "obj = C()\n",
        "obj.show()"
      ],
      "metadata": {
        "colab": {
          "base_uri": "https://localhost:8080/"
        },
        "id": "0jL48QFyW_xA",
        "outputId": "c103b776-9414-4346-f837-09e6cebd0ece"
      },
      "execution_count": null,
      "outputs": [
        {
          "output_type": "stream",
          "name": "stdout",
          "text": [
            "Class A\n",
            "Class B\n",
            "Class C\n"
          ]
        }
      ]
    },
    {
      "cell_type": "markdown",
      "source": [
        "# Polymorphism"
      ],
      "metadata": {
        "id": "6sp70HyNbWip"
      }
    },
    {
      "cell_type": "code",
      "source": [
        "class animal:\n",
        "  def speak(self):\n",
        "    print(\"Animal is making sound\")\n",
        "\n",
        "class dog(animal):\n",
        "  def speak(self):\n",
        "    print(\"Dog barks\")\n",
        "\n",
        "class cat(animal):\n",
        "  def speak(self):\n",
        "    print(\"cat mweows\")\n",
        "\n",
        "dog  = dog()\n",
        "cat = cat()\n",
        "\n",
        "dog.speak()\n",
        "cat.speak()"
      ],
      "metadata": {
        "colab": {
          "base_uri": "https://localhost:8080/"
        },
        "id": "a_WGalHqZuCK",
        "outputId": "e35963ce-011b-4924-c9fb-2f1e5a79bd54"
      },
      "execution_count": null,
      "outputs": [
        {
          "output_type": "stream",
          "name": "stdout",
          "text": [
            "Dog barks\n",
            "cat mweows\n"
          ]
        }
      ]
    },
    {
      "cell_type": "code",
      "source": [],
      "metadata": {
        "id": "SW0xSqPePtDr"
      },
      "execution_count": null,
      "outputs": []
    },
    {
      "cell_type": "markdown",
      "source": [
        "## Types os poly morphism\n",
        "\n",
        "**Overloading**\n",
        "\n",
        " 1. Using Default Arguments\n",
        "\n",
        "Python allows to setting default values to parameters, which stimulates overloading"
      ],
      "metadata": {
        "id": "51xNSheAOmya"
      }
    },
    {
      "cell_type": "code",
      "source": [
        "class calculator:\n",
        "  def add(self, a, b=0, c=0):\n",
        "    return a + b + c\n",
        "\n",
        "calc = calculator()\n",
        "\n",
        "print(calc.add(5))\n",
        "print(calc.add(5, 10))\n",
        "print(calc.add(5, 10, 20))"
      ],
      "metadata": {
        "colab": {
          "base_uri": "https://localhost:8080/"
        },
        "id": "-Aq1PxW4Oqp7",
        "outputId": "049c189d-889c-4a39-dce0-caff5352aecd"
      },
      "execution_count": null,
      "outputs": [
        {
          "output_type": "stream",
          "name": "stdout",
          "text": [
            "5\n",
            "15\n",
            "35\n"
          ]
        }
      ]
    },
    {
      "cell_type": "markdown",
      "source": [
        "2. using variable-length arguments (*args)\n",
        "\n",
        "python allows to passing a variable number of arguments to stimulate overloading"
      ],
      "metadata": {
        "id": "CYPDf7yQR-Oy"
      }
    },
    {
      "cell_type": "code",
      "source": [
        "class mathoperation:\n",
        "  def add(self, *numbers):\n",
        "    total = sum(numbers)\n",
        "    print(f\"Sum: {total}\")\n",
        "\n",
        "math = mathoperation()\n",
        "math.add(5)\n",
        "math.add(5, 10)\n",
        "math.add(1, 2, 3, 4, 5)"
      ],
      "metadata": {
        "colab": {
          "base_uri": "https://localhost:8080/"
        },
        "id": "IrHXn87eR-8z",
        "outputId": "61dc8b39-931f-47d6-c5f6-1e7d0f27d45c"
      },
      "execution_count": null,
      "outputs": [
        {
          "output_type": "stream",
          "name": "stdout",
          "text": [
            "Sum: 5\n",
            "Sum: 15\n",
            "Sum: 15\n"
          ]
        }
      ]
    },
    {
      "cell_type": "markdown",
      "source": [
        "3. using *kwargs"
      ],
      "metadata": {
        "id": "vCUWDpNJUwZb"
      }
    },
    {
      "cell_type": "code",
      "source": [
        "class greeting:\n",
        "  def say_hello(self, **kwargs):\n",
        "    print(f\"Hello, {kwargs['name']} !.\")\n",
        "    print(f\"you are {kwargs['age']} years old.\")\n",
        "    print(f\"you are from {kwargs['city']}.\")\n",
        "\n",
        "g = greeting()\n",
        "g.say_hello(name=\"sinan\", age=25, city=\"New york\")"
      ],
      "metadata": {
        "colab": {
          "base_uri": "https://localhost:8080/"
        },
        "id": "3o3N3av2UxiD",
        "outputId": "5a609edc-6967-4f95-d2ff-f04d769efa69"
      },
      "execution_count": null,
      "outputs": [
        {
          "output_type": "stream",
          "name": "stdout",
          "text": [
            "Hello, sinan !.\n",
            "you are 25 years old.\n",
            "you are from New york.\n"
          ]
        }
      ]
    },
    {
      "cell_type": "code",
      "source": [
        "class greeting:\n",
        "  def say_hello(self, **kwargs):\n",
        "    if 'name' in kwargs and 'age' in kwargs and 'city' in kwargs:\n",
        "      print(f\"Hello, {kwargs['name']} !.\")\n",
        "      print(f\"you are {kwargs['age']} years old.\")\n",
        "      print(f\"you are from {kwargs['city']}.\")\n",
        "    else:\n",
        "      print(\"Hello\")\n",
        "\n",
        "g = greeting()\n",
        "g.say_hello()\n",
        "g.say_hello(name=\"sinan\", age=25, city=\"New york\")"
      ],
      "metadata": {
        "colab": {
          "base_uri": "https://localhost:8080/"
        },
        "id": "vHXRlgMQU1Bj",
        "outputId": "ba193c83-4c4a-483c-b7bc-d06f689916bc"
      },
      "execution_count": null,
      "outputs": [
        {
          "output_type": "stream",
          "name": "stdout",
          "text": [
            "Hello\n",
            "Hello, sinan !.\n",
            "you are 25 years old.\n",
            "you are from New york.\n"
          ]
        }
      ]
    },
    {
      "cell_type": "markdown",
      "source": [
        "# Encapsulation"
      ],
      "metadata": {
        "id": "PQEn4inEdwnG"
      }
    },
    {
      "cell_type": "code",
      "source": [
        "class company:\n",
        "  def __init__(self, company_name, company_id):\n",
        "    self.__company_name = company_name\n",
        "    self._company_id = company_id\n",
        "\n",
        "  def get_company_name(self):\n",
        "    print(self.__company_name)\n",
        "\n",
        "c = company(\"TCS\", 91)\n",
        "c.get_company_name()\n",
        "# print(c.__company_name)\n",
        "# print(c._company_id)"
      ],
      "metadata": {
        "id": "Wk0z8Bojdyne",
        "colab": {
          "base_uri": "https://localhost:8080/"
        },
        "outputId": "f92261af-0269-4db3-b4ae-4293e0505910"
      },
      "execution_count": null,
      "outputs": [
        {
          "output_type": "stream",
          "name": "stdout",
          "text": [
            "TCS\n"
          ]
        }
      ]
    },
    {
      "cell_type": "code",
      "source": [
        "class bankaccount:\n",
        "  def __init__(self, account_number, balance):\n",
        "    self.__account_number = account_number\n",
        "    self.__balance = balance\n",
        "  def deposite(self, amount):\n",
        "    if amount > 0:\n",
        "      self.__balance += amount\n",
        "      print(f\"Deposited {amount}. New balance: {self.__balance}\")\n",
        "    else:\n",
        "      print(\"Invalid deposit error\")\n",
        "  def get_balance(self):\n",
        "    return self.__balance\n",
        "\n",
        "account = bankaccount(\"12345\", 1000)\n",
        "account.deposite(500)\n",
        "# print(account.__balance)\n",
        "print(account.get_balance())"
      ],
      "metadata": {
        "colab": {
          "base_uri": "https://localhost:8080/"
        },
        "id": "HbqEEdZZkg5V",
        "outputId": "370e4997-6f9e-4a0d-ab8a-d5204b9cbcb8"
      },
      "execution_count": null,
      "outputs": [
        {
          "output_type": "stream",
          "name": "stdout",
          "text": [
            "Deposited 500. New balance: 1500\n",
            "1500\n"
          ]
        }
      ]
    },
    {
      "cell_type": "markdown",
      "source": [
        "# **Abstraction**\n",
        "\n",
        "---\n",
        "\n",
        "\n",
        "\n",
        "- Abstraction is a concept in **object-orianted  programming**(OOP) that focuses on **hiding the implimantation details** and showing only the necessary features of an object\n",
        "- it allows user to focuson what an object does rather than how it dose it.\n",
        "- Example:\n",
        "    - When you use a smartphone, you only see the interface (buttons, icons) but you don't need to know how the internal circutes work\n",
        "\n",
        "**Why is Abstraction important ?**\n",
        "- Simplifies complex system by focusing only on essential aspects.\n",
        "- Reduces code complexity and increases reusability.\n",
        "- Enhances security by rsetricting direct access to implementation details.\n",
        "      "
      ],
      "metadata": {
        "id": "ehLF1pCDUfaU"
      }
    },
    {
      "cell_type": "markdown",
      "source": [
        "**Abstraction in Python Using Abstract Classes**\n",
        "\n",
        "  - Python provides **abstraction** using **abstract classes** and  **abstract methods** which are defined in the abc module\n",
        "  - **Abstract class :** A class that contains one or more abstract methods, ti cannot be instantiated directly.\n",
        "  - **Abstrcat method :** A method that is declared but contains no implementation ( must be implemented by child classses. )"
      ],
      "metadata": {
        "id": "Rxudg-_zUm_c"
      }
    },
    {
      "cell_type": "code",
      "source": [
        "from abc import ABC, abstractmethod\n",
        "\n",
        "class Vehicle(ABC): #abstract class\n",
        "\n",
        "  @abstractmethod\n",
        "  def start_engine(self):\n",
        "    pass #abstract method with no implementation\n",
        "\n",
        "\n",
        "  @abstractmethod\n",
        "  def stop_engine(self):\n",
        "    pass #abstract method with no implementation\n",
        "\n",
        "# An abstract class cannot be instantiated directly\n",
        "v=Vehicle() # TypeError: Can't instantiate abstract class Vehicle with abstract methods start_engine, stop_engine\n"
      ],
      "metadata": {
        "id": "6wxgKL5weub1",
        "colab": {
          "base_uri": "https://localhost:8080/",
          "height": 183
        },
        "outputId": "4df473ba-c149-4f89-d3ae-5cffffec751b"
      },
      "execution_count": null,
      "outputs": [
        {
          "output_type": "error",
          "ename": "TypeError",
          "evalue": "Can't instantiate abstract class Vehicle with abstract methods start_engine, stop_engine",
          "traceback": [
            "\u001b[0;31m---------------------------------------------------------------------------\u001b[0m",
            "\u001b[0;31mTypeError\u001b[0m                                 Traceback (most recent call last)",
            "\u001b[0;32m<ipython-input-5-e5f3c42dea76>\u001b[0m in \u001b[0;36m<cell line: 0>\u001b[0;34m()\u001b[0m\n\u001b[1;32m     13\u001b[0m \u001b[0;34m\u001b[0m\u001b[0m\n\u001b[1;32m     14\u001b[0m \u001b[0;31m# An abstract class cannot be instantiated directly\u001b[0m\u001b[0;34m\u001b[0m\u001b[0;34m\u001b[0m\u001b[0m\n\u001b[0;32m---> 15\u001b[0;31m \u001b[0mv\u001b[0m\u001b[0;34m=\u001b[0m\u001b[0mVehicle\u001b[0m\u001b[0;34m(\u001b[0m\u001b[0;34m)\u001b[0m \u001b[0;31m# TypeError: Can't instantiate abstract class Vehicle with abstract methods start_engine, stop_engine\u001b[0m\u001b[0;34m\u001b[0m\u001b[0;34m\u001b[0m\u001b[0m\n\u001b[0m",
            "\u001b[0;31mTypeError\u001b[0m: Can't instantiate abstract class Vehicle with abstract methods start_engine, stop_engine"
          ]
        }
      ]
    },
    {
      "cell_type": "code",
      "source": [
        "from abc import ABC, abstractmethod\n",
        "\n",
        "class Vehicle(ABC): #abstract class\n",
        "\n",
        "  @abstractmethod\n",
        "  def start_engine(self):\n",
        "    pass #abstract method with no implementation\n",
        "\n",
        "\n",
        "  @abstractmethod\n",
        "  def stop_engine(self):\n",
        "    pass #abstract method with no implementation\n",
        "\n",
        "\n",
        "# making child class for abstract class instantiating\n",
        "\n",
        "class car(Vehicle): # child class of vehicle\n",
        "\n",
        "  def start_engine(self):  # also we need to create same function (method) in child class  other wise it will shows error!\n",
        "    print(\"Car engine started\")\n",
        "\n",
        "  def stop_engine(self):\n",
        "    print(\"Car engine stopped\")\n",
        "\n",
        "car = car()\n",
        "car.start_engine()\n",
        "car.stop_engine()"
      ],
      "metadata": {
        "colab": {
          "base_uri": "https://localhost:8080/"
        },
        "id": "eIZkHCF0Yc0U",
        "outputId": "4bb60f18-bdd8-402b-be41-7a51285603be"
      },
      "execution_count": null,
      "outputs": [
        {
          "output_type": "stream",
          "name": "stdout",
          "text": [
            "Car engine started\n",
            "Car engine stopped\n"
          ]
        }
      ]
    },
    {
      "cell_type": "markdown",
      "source": [
        "- `If we want to make object from abstract class we can't directly make object from the abstract class.`\n",
        "\n",
        "- `So we need to make child class for abstract class object making`\n",
        "- `And also need to make same method ( function ) on child class also`"
      ],
      "metadata": {
        "id": "36qfFUiDahFk"
      }
    },
    {
      "cell_type": "markdown",
      "source": [
        "- All child classes **must** impement the abstract methos of the parent abstract class.\n",
        "- Abstract class can have both **abstract methods and concrete ( regular ) methods**.\n"
      ],
      "metadata": {
        "id": "vIeI1E_waxrs"
      }
    },
    {
      "cell_type": "code",
      "source": [
        "from abc import ABC, abstractmethod\n",
        "\n",
        "class Shape(ABC):\n",
        "  @abstractmethod\n",
        "  def calculate_area(self):\n",
        "    pass\n",
        "\n",
        "\n",
        "class circle(Shape):\n",
        "\n",
        "  def __init__(self,radius):\n",
        "    self.radius = radius\n",
        "\n",
        "  def calculate_area(self):\n",
        "    print(f\"circle area is : {3.14 *self.radius * self.radius}\")\n",
        "\n",
        "class Rectangle(Shape):\n",
        "\n",
        "  def __init__(self, width, height):\n",
        "    self.width = width\n",
        "    self.height = height\n",
        "\n",
        "  def calculate_area(self):\n",
        "    print(f\"Rectangle area is : {self.width * self.height}\")\n",
        "\n",
        "cir = circle(10)\n",
        "rect= Rectangle(5,10)\n",
        "\n",
        "cir.calculate_area()\n",
        "print()\n",
        "rect.calculate_area()"
      ],
      "metadata": {
        "colab": {
          "base_uri": "https://localhost:8080/"
        },
        "id": "n0MKErpZaiDE",
        "outputId": "f6ec5d77-2ed1-4bf5-c4cf-43cebc241cab"
      },
      "execution_count": null,
      "outputs": [
        {
          "output_type": "stream",
          "name": "stdout",
          "text": [
            "circle area is : 314.0\n",
            "\n",
            "Rectangle area is : 50\n"
          ]
        }
      ]
    },
    {
      "cell_type": "markdown",
      "source": [
        "1.Create an abstract class Animal with an abstract method make_sound(). Then, implement two subclasses, Dog and Cat, which override the make_sound() method to print the respective animal sounds. Instantiate both classes and call their make_sound() methods.\n",
        "\n",
        "2.Create an abstract class Employee with an abstract method calculate_salary(). Implement two subclasses, FullTimeEmployee and PartTimeEmployee, which calculate salaries based on a fixed monthly salary and an hourly rate, respectively. Instantiate both classes and print their salaries.\n",
        "\n",
        "3.Create an abstract class Polygon with an abstract method number_of_sides(). Implement two subclasses, Triangle and Pentagon, which return the respective number of sides. Instantiate both classes and print the number of sides."
      ],
      "metadata": {
        "id": "N0lPm194MSqK"
      }
    },
    {
      "cell_type": "code",
      "source": [
        "#1\n",
        "from abc import ABC, abstractmethod\n",
        "\n",
        "class Animal:\n",
        "\n",
        "  @abstractmethod\n",
        "  def make_sound(self):\n",
        "    pass\n",
        "\n",
        "class Dog(Animal):\n",
        "\n",
        "  def make_sound(self):\n",
        "    print(\"Dog make bark sound!\")\n",
        "\n",
        "class cat(Animal):\n",
        "\n",
        "  def make_sound(self):\n",
        "    print(\"Cat make meow sond!\")\n",
        "\n",
        "d=Dog()\n",
        "c=cat()\n",
        "\n",
        "d.make_sound()\n",
        "print()\n",
        "c.make_sound()\n"
      ],
      "metadata": {
        "colab": {
          "base_uri": "https://localhost:8080/"
        },
        "id": "LMdunRWyMToL",
        "outputId": "3e78121f-65ae-42de-e202-2065185cc38f"
      },
      "execution_count": null,
      "outputs": [
        {
          "output_type": "stream",
          "name": "stdout",
          "text": [
            "Dog make bark sound!\n",
            "\n",
            "Cat make meow sond!\n"
          ]
        }
      ]
    },
    {
      "cell_type": "code",
      "source": [
        "#2\n",
        "class employee:\n",
        "\n",
        "  @abstractmethod\n",
        "  def calculate_salary(self):\n",
        "    pass\n",
        "\n",
        "class fulltime_employee(employee):\n",
        "\n",
        "  def __init__(self, salary):\n",
        "    self.salary=salary\n",
        "\n",
        "  def calculate_salary(self):\n",
        "    print(f\"salary of full time employee is {self.salary}\")\n",
        "\n",
        "class partime_employee(employee):\n",
        "\n",
        "\n",
        "  def __init__(self, salary):\n",
        "    self.salary=salary\n",
        "\n",
        "  def calculate_salary(self):\n",
        "    print(f\"salary of partime employee is {self.salary/2}\")\n",
        "\n",
        "f=fulltime_employee(10000)\n",
        "p=partime_employee(10000)\n",
        "\n",
        "f.calculate_salary()\n",
        "print()\n",
        "p.calculate_salary()"
      ],
      "metadata": {
        "colab": {
          "base_uri": "https://localhost:8080/"
        },
        "id": "kCT0GwJ2NeeB",
        "outputId": "78065b4d-3a69-40ce-af97-85e0341e7831"
      },
      "execution_count": null,
      "outputs": [
        {
          "output_type": "stream",
          "name": "stdout",
          "text": [
            "salary of full time employee is 10000\n",
            "\n",
            "salary of partime employee is 5000.0\n"
          ]
        }
      ]
    },
    {
      "cell_type": "code",
      "source": [
        "class polygon:\n",
        "\n",
        "  @abstractmethod\n",
        "  def number_of_sides():\n",
        "    pass\n",
        "\n",
        "class Triangle(polygon):\n",
        "\n",
        "  def __init__(self, sides):\n",
        "    self.sides=sides\n",
        "\n",
        "  def number_of_sides(self):\n",
        "    print(f\"Triangle side is {self.sides}!\")\n",
        "\n",
        "\n",
        "class Pentagon(polygon):\n",
        "\n",
        "  def __init__(self, sides):\n",
        "    self.sides=sides\n",
        "\n",
        "  def number_of_sides(self):\n",
        "    print(f\"Pentagon side is {self.sides}!\")\n",
        "\n",
        "t=Triangle(3)\n",
        "p=Pentagon(5)\n",
        "\n",
        "t.number_of_sides()\n",
        "print()\n",
        "p.number_of_sides()"
      ],
      "metadata": {
        "colab": {
          "base_uri": "https://localhost:8080/"
        },
        "id": "HTvZMNcnRY9D",
        "outputId": "381cfb3e-c633-4bfa-a59d-d3d581e14303"
      },
      "execution_count": null,
      "outputs": [
        {
          "output_type": "stream",
          "name": "stdout",
          "text": [
            "Triangle side is 3!\n",
            "\n",
            "Pentagon side is 5!\n"
          ]
        }
      ]
    },
    {
      "cell_type": "code",
      "source": [
        "class car:\n",
        "  #clas variable\n",
        "  wheels = 4\n",
        "\n",
        "  def __init__(self, brand, model):\n",
        "    self.brand = brand\n",
        "    self.model = model\n",
        "\n",
        "  @classmethod\n",
        "  def change_wheels(cls, new_wheels):\n",
        "    cls.wheels = new_wheels\n",
        "    print(f\"The number of wheels has been updated to {cls.wheels}.\")\n",
        "\n",
        "\n",
        "# create an instance of car\n",
        "car1 = car(\"Toyoata\",\"Etios\")\n",
        "\n",
        "# call the class method to modify the class variable\n",
        "car.change_wheels(6)\n",
        "\n",
        "print()\n",
        "\n",
        "# the class variable \"wheels\" is now changed for all instances\n",
        "car1.wheels"
      ],
      "metadata": {
        "colab": {
          "base_uri": "https://localhost:8080/"
        },
        "id": "bqcBrx_6YNjr",
        "outputId": "2c24add5-7959-4b51-c7be-a025e224fd36"
      },
      "execution_count": null,
      "outputs": [
        {
          "output_type": "stream",
          "name": "stdout",
          "text": [
            "The number of wheels has been updated to 6.\n",
            "\n"
          ]
        },
        {
          "output_type": "execute_result",
          "data": {
            "text/plain": [
              "6"
            ]
          },
          "metadata": {},
          "execution_count": 5
        }
      ]
    },
    {
      "cell_type": "markdown",
      "source": [
        "# class methods\n",
        "\n",
        "Class methods can modify class-level variables or properties (variables shared among all instances).This allows changes to be made that affect the class as a whole, rather than just an individual instance.\n",
        "\n",
        "\n",
        "( @classmethod ): This is used to define a class method, it indicates that the method is bound to the class, not to an instance.\n",
        "\n",
        "**First Parameter (cls):** the first prameter of a class method is always a refernce to the class itself, typically named cls. This is similar to how instance methods have refernce to the instance ( typically names self )."
      ],
      "metadata": {
        "id": "kNhpwi6UgvuE"
      }
    },
    {
      "cell_type": "code",
      "source": [
        "pip install gTTS"
      ],
      "metadata": {
        "colab": {
          "base_uri": "https://localhost:8080/"
        },
        "id": "S4gCS_Z5iBPy",
        "outputId": "98e6e8fa-5626-4939-e708-9a058445c76e"
      },
      "execution_count": null,
      "outputs": [
        {
          "output_type": "stream",
          "name": "stdout",
          "text": [
            "Collecting gTTS\n",
            "  Downloading gTTS-2.5.4-py3-none-any.whl.metadata (4.1 kB)\n",
            "Requirement already satisfied: requests<3,>=2.27 in /usr/local/lib/python3.11/dist-packages (from gTTS) (2.32.3)\n",
            "Requirement already satisfied: click<8.2,>=7.1 in /usr/local/lib/python3.11/dist-packages (from gTTS) (8.1.8)\n",
            "Requirement already satisfied: charset-normalizer<4,>=2 in /usr/local/lib/python3.11/dist-packages (from requests<3,>=2.27->gTTS) (3.4.1)\n",
            "Requirement already satisfied: idna<4,>=2.5 in /usr/local/lib/python3.11/dist-packages (from requests<3,>=2.27->gTTS) (3.10)\n",
            "Requirement already satisfied: urllib3<3,>=1.21.1 in /usr/local/lib/python3.11/dist-packages (from requests<3,>=2.27->gTTS) (2.3.0)\n",
            "Requirement already satisfied: certifi>=2017.4.17 in /usr/local/lib/python3.11/dist-packages (from requests<3,>=2.27->gTTS) (2024.12.14)\n",
            "Downloading gTTS-2.5.4-py3-none-any.whl (29 kB)\n",
            "Installing collected packages: gTTS\n",
            "Successfully installed gTTS-2.5.4\n"
          ]
        }
      ]
    },
    {
      "cell_type": "code",
      "source": [
        "# Import necessary libraries\n",
        "from gtts import gTTS\n",
        "import IPython.display as ipd\n",
        "\n",
        "# Input text\n",
        "text = \"എൻ്റെ പേര് ജസീം\"\n",
        "\n",
        "# Specify language (e.g., 'en' for English)\n",
        "language = 'ml'\n",
        "\n",
        "# Convert text to speech\n",
        "tts = gTTS(text=text, lang=language, slow=False)\n",
        "\n",
        "# Save the audio file\n",
        "audio_file = \"output.mp3\"\n",
        "tts.save(audio_file)\n",
        "\n",
        "# Play the audio in Colab\n",
        "ipd.Audio(audio_file)"
      ],
      "metadata": {
        "colab": {
          "base_uri": "https://localhost:8080/",
          "height": 75
        },
        "id": "ZjqNfPqLjz_D",
        "outputId": "2e1829cb-13ac-40d4-c27b-b4274618455f"
      },
      "execution_count": null,
      "outputs": [
        {
          "output_type": "execute_result",
          "data": {
            "text/plain": [
              "<IPython.lib.display.Audio object>"
            ],
            "text/html": [
              "\n",
              "                <audio  controls=\"controls\" >\n",
              "                    <source src=\"data:audio/mpeg;base64,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\" type=\"audio/mpeg\" />\n",
              "                    Your browser does not support the audio element.\n",
              "                </audio>\n",
              "              "
            ]
          },
          "metadata": {},
          "execution_count": 14
        }
      ]
    },
    {
      "cell_type": "code",
      "source": [
        "!pip install googletrans==4.0.0-rc1\n",
        "!pip install gTTS\n",
        "\n",
        "from googletrans import Translator\n",
        "\n",
        "# Initialize the translator\n",
        "translator = Translator()\n",
        "\n",
        "# English text to be translated\n",
        "english_text = \"hello boys i am from Mumbai\"\n",
        "\n",
        "# Translate to Malayalam\n",
        "translation = translator.translate(english_text, src='en', dest='ml')\n",
        "\n",
        "# Import necessary libraries\n",
        "from gtts import gTTS\n",
        "import IPython.display as ipd\n",
        "\n",
        "# Input text - Use the translated text (translation.text)\n",
        "text = translation.text  # Get the translated text from the 'translation' object\n",
        "\n",
        "# Specify language (e.g., 'en' for English)\n",
        "language = 'ml'\n",
        "\n",
        "# Convert text to speech\n",
        "tts = gTTS(text=text, lang=language, slow=False)\n",
        "\n",
        "# Save the audio file\n",
        "af = \"output.mp3\"\n",
        "tts.save(af)\n",
        "\n",
        "# Play the audio in Colab\n",
        "ipd.Audio(af)\n",
        "\n",
        "# Initialize the translator\n",
        "translator = Translator()\n",
        "\n",
        "# English text to be translated\n",
        "english_text = \"hello boys i am from Mumbai\"\n",
        "\n",
        "# Translate to Malayalam\n",
        "translation = translator.translate(english_text, src='en', dest='ml')\n",
        "\n",
        "# Import necessary libraries\n",
        "from gtts import gTTS\n",
        "import IPython.display as ipd\n",
        "\n",
        "# Input text - Use the translated text (translation.text)\n",
        "text = translation.text  # Get the translated text from the 'translation' object\n",
        "\n",
        "# Specify language (e.g., 'en' for English)\n",
        "language = 'ml'\n",
        "\n",
        "# Convert text to speech\n",
        "tts = gTTS(text=text, lang=language, slow=False)\n",
        "\n",
        "# Save the audio file\n",
        "af = \"output.mp3\"\n",
        "tts.save(af)\n",
        "\n",
        "# Play the audio in Colab\n",
        "ipd.Audio(audio_file)"
      ],
      "metadata": {
        "colab": {
          "base_uri": "https://localhost:8080/",
          "height": 1000
        },
        "id": "zOKsmlMSvA2r",
        "outputId": "5cebf4ea-5c44-4a2e-8d98-14733f4c3260"
      },
      "execution_count": null,
      "outputs": [
        {
          "output_type": "stream",
          "name": "stdout",
          "text": [
            "Collecting googletrans==4.0.0-rc1\n",
            "  Using cached googletrans-4.0.0rc1-py3-none-any.whl\n",
            "Collecting httpx==0.13.3 (from googletrans==4.0.0-rc1)\n",
            "  Using cached httpx-0.13.3-py3-none-any.whl.metadata (25 kB)\n",
            "Requirement already satisfied: certifi in /usr/local/lib/python3.11/dist-packages (from httpx==0.13.3->googletrans==4.0.0-rc1) (2024.12.14)\n",
            "Collecting hstspreload (from httpx==0.13.3->googletrans==4.0.0-rc1)\n",
            "  Using cached hstspreload-2025.1.1-py3-none-any.whl.metadata (2.1 kB)\n",
            "Requirement already satisfied: sniffio in /usr/local/lib/python3.11/dist-packages (from httpx==0.13.3->googletrans==4.0.0-rc1) (1.3.1)\n",
            "Collecting chardet==3.* (from httpx==0.13.3->googletrans==4.0.0-rc1)\n",
            "  Using cached chardet-3.0.4-py2.py3-none-any.whl.metadata (3.2 kB)\n",
            "Collecting idna==2.* (from httpx==0.13.3->googletrans==4.0.0-rc1)\n",
            "  Using cached idna-2.10-py2.py3-none-any.whl.metadata (9.1 kB)\n",
            "Collecting rfc3986<2,>=1.3 (from httpx==0.13.3->googletrans==4.0.0-rc1)\n",
            "  Using cached rfc3986-1.5.0-py2.py3-none-any.whl.metadata (6.5 kB)\n",
            "Collecting httpcore==0.9.* (from httpx==0.13.3->googletrans==4.0.0-rc1)\n",
            "  Using cached httpcore-0.9.1-py3-none-any.whl.metadata (4.6 kB)\n",
            "Collecting h11<0.10,>=0.8 (from httpcore==0.9.*->httpx==0.13.3->googletrans==4.0.0-rc1)\n",
            "  Using cached h11-0.9.0-py2.py3-none-any.whl.metadata (8.1 kB)\n",
            "Collecting h2==3.* (from httpcore==0.9.*->httpx==0.13.3->googletrans==4.0.0-rc1)\n",
            "  Using cached h2-3.2.0-py2.py3-none-any.whl.metadata (32 kB)\n",
            "Collecting hyperframe<6,>=5.2.0 (from h2==3.*->httpcore==0.9.*->httpx==0.13.3->googletrans==4.0.0-rc1)\n",
            "  Using cached hyperframe-5.2.0-py2.py3-none-any.whl.metadata (7.2 kB)\n",
            "Collecting hpack<4,>=3.0 (from h2==3.*->httpcore==0.9.*->httpx==0.13.3->googletrans==4.0.0-rc1)\n",
            "  Using cached hpack-3.0.0-py2.py3-none-any.whl.metadata (7.0 kB)\n",
            "Using cached httpx-0.13.3-py3-none-any.whl (55 kB)\n",
            "Using cached chardet-3.0.4-py2.py3-none-any.whl (133 kB)\n",
            "Using cached httpcore-0.9.1-py3-none-any.whl (42 kB)\n",
            "Using cached idna-2.10-py2.py3-none-any.whl (58 kB)\n",
            "Using cached h2-3.2.0-py2.py3-none-any.whl (65 kB)\n",
            "Using cached rfc3986-1.5.0-py2.py3-none-any.whl (31 kB)\n",
            "Using cached hstspreload-2025.1.1-py3-none-any.whl (1.3 MB)\n",
            "Using cached h11-0.9.0-py2.py3-none-any.whl (53 kB)\n",
            "Using cached hpack-3.0.0-py2.py3-none-any.whl (38 kB)\n",
            "Using cached hyperframe-5.2.0-py2.py3-none-any.whl (12 kB)\n",
            "Installing collected packages: rfc3986, hyperframe, hpack, h11, chardet, idna, hstspreload, h2, httpcore, httpx, googletrans\n",
            "  Attempting uninstall: h11\n",
            "    Found existing installation: h11 0.14.0\n",
            "    Uninstalling h11-0.14.0:\n",
            "      Successfully uninstalled h11-0.14.0\n",
            "  Attempting uninstall: chardet\n",
            "    Found existing installation: chardet 5.2.0\n",
            "    Uninstalling chardet-5.2.0:\n",
            "      Successfully uninstalled chardet-5.2.0\n",
            "  Attempting uninstall: idna\n",
            "    Found existing installation: idna 3.10\n",
            "    Uninstalling idna-3.10:\n",
            "      Successfully uninstalled idna-3.10\n",
            "  Attempting uninstall: httpcore\n",
            "    Found existing installation: httpcore 1.0.7\n",
            "    Uninstalling httpcore-1.0.7:\n",
            "      Successfully uninstalled httpcore-1.0.7\n",
            "  Attempting uninstall: httpx\n",
            "    Found existing installation: httpx 0.28.1\n",
            "    Uninstalling httpx-0.28.1:\n",
            "      Successfully uninstalled httpx-0.28.1\n",
            "\u001b[31mERROR: pip's dependency resolver does not currently take into account all the packages that are installed. This behaviour is the source of the following dependency conflicts.\n",
            "langsmith 0.2.10 requires httpx<1,>=0.23.0, but you have httpx 0.13.3 which is incompatible.\n",
            "openai 1.59.6 requires httpx<1,>=0.23.0, but you have httpx 0.13.3 which is incompatible.\u001b[0m\u001b[31m\n",
            "\u001b[0mSuccessfully installed chardet-3.0.4 googletrans-4.0.0rc1 h11-0.9.0 h2-3.2.0 hpack-3.0.0 hstspreload-2025.1.1 httpcore-0.9.1 httpx-0.13.3 hyperframe-5.2.0 idna-2.10 rfc3986-1.5.0\n"
          ]
        },
        {
          "output_type": "display_data",
          "data": {
            "application/vnd.colab-display-data+json": {
              "pip_warning": {
                "packages": [
                  "chardet",
                  "idna"
                ]
              },
              "id": "00e7df3fd8714baabef6b59633e84c8f"
            }
          },
          "metadata": {}
        },
        {
          "output_type": "stream",
          "name": "stdout",
          "text": [
            "Requirement already satisfied: gTTS in /usr/local/lib/python3.11/dist-packages (2.5.4)\n",
            "Requirement already satisfied: requests<3,>=2.27 in /usr/local/lib/python3.11/dist-packages (from gTTS) (2.32.3)\n",
            "Requirement already satisfied: click<8.2,>=7.1 in /usr/local/lib/python3.11/dist-packages (from gTTS) (8.1.8)\n",
            "Requirement already satisfied: charset-normalizer<4,>=2 in /usr/local/lib/python3.11/dist-packages (from requests<3,>=2.27->gTTS) (3.4.1)\n",
            "Requirement already satisfied: idna<4,>=2.5 in /usr/local/lib/python3.11/dist-packages (from requests<3,>=2.27->gTTS) (2.10)\n",
            "Requirement already satisfied: urllib3<3,>=1.21.1 in /usr/local/lib/python3.11/dist-packages (from requests<3,>=2.27->gTTS) (2.3.0)\n",
            "Requirement already satisfied: certifi>=2017.4.17 in /usr/local/lib/python3.11/dist-packages (from requests<3,>=2.27->gTTS) (2024.12.14)\n"
          ]
        },
        {
          "output_type": "execute_result",
          "data": {
            "text/plain": [
              "<IPython.lib.display.Audio object>"
            ],
            "text/html": [
              "\n",
              "                <audio  controls=\"controls\" >\n",
              "                    <source src=\"data:audio/mpeg;base64,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\" type=\"audio/mpeg\" />\n",
              "                    Your browser does not support the audio element.\n",
              "                </audio>\n",
              "              "
            ]
          },
          "metadata": {},
          "execution_count": 22
        }
      ]
    },
    {
      "cell_type": "markdown",
      "source": [
        "# practice"
      ],
      "metadata": {
        "id": "hNfqKo-tdBHo"
      }
    },
    {
      "cell_type": "markdown",
      "source": [
        "1. Define a Python class Student with the following private attributes:\n",
        "\n",
        "__name to store the student's name.\n",
        "__marks to store the student's marks.\n",
        "\n",
        "2. Implement the following public  getter and setter methods to access and modify these attributes securely:\n",
        "\n",
        "set_name(name) – A method to set the student's name.\n",
        "get_name() – A method to retrieve the student's name.\n",
        "set_marks(marks) – A method to set the student's marks (Ensure marks cannot be negative).\n",
        "get_marks() – A method to retrieve the student's marks.\n",
        "\n",
        "3. Demonstrate the usage of the class by:\n",
        "\n",
        "-Create an instance of the Student class.\n",
        "-Setting the name of the student to \"Alice\" and print it using the getter method.\n",
        "-Setting the marks of the student to 95 and print it using the getter method.\n",
        "-Dont alow negative marks.\n"
      ],
      "metadata": {
        "id": "y6hDKmRmbwNH"
      }
    },
    {
      "cell_type": "code",
      "source": [
        "class student:\n",
        "\n",
        "  def __init__(self,name,mark):\n",
        "    self.__name = name\n",
        "    self.__mark = mark\n",
        "\n",
        "  def get_name(self):\n",
        "    print(self.__name)\n",
        "\n",
        "  def get_mark(self):\n",
        "    print(self.__mark)\n",
        "\n",
        "a=student(\"Mubashir\",85)\n",
        "print(\"student name:-\")\n",
        "a.get_name()\n",
        "print()\n",
        "print(\"student mark :-\")\n",
        "a.get_mark()"
      ],
      "metadata": {
        "colab": {
          "base_uri": "https://localhost:8080/"
        },
        "id": "pom-fIjobv_Y",
        "outputId": "5d95e864-f2e5-44be-fa9b-1c4b3c467999"
      },
      "execution_count": null,
      "outputs": [
        {
          "output_type": "stream",
          "name": "stdout",
          "text": [
            "student name:-\n",
            "Mubashir\n",
            "\n",
            "student mark :-\n",
            "85\n"
          ]
        }
      ]
    },
    {
      "cell_type": "markdown",
      "source": [
        "Step1 : Define a Python class Employee with the following private attribute:\n",
        "\n",
        "__salary to store the employee's salary.A\n",
        "\n",
        "Step 2 : Implement the following public methods to securely access and modify the salary:\n",
        "\n",
        "-set_salary(salary) – A method to set the employee's salary (Ensure the salary is a positive value).\n",
        "-get_salary() – A method to retrieve the employee's current salary.\n",
        "-increase_salary(percentage) – A method to increase the salary by a given percentage securely and update the salary value.\n",
        "\n",
        "Step 3 : Demonstrate the usage of the class by:\n",
        "\n",
        "-Creating an instance of the Employee class.\n",
        "-Setting the salary to 50000 and printing it using the getter method.\n",
        "-Increasing the salary by 10% and printing the updated salary.\n",
        "-Dont allow negative salary , give warning message\n"
      ],
      "metadata": {
        "id": "Thgs1RYyknXT"
      }
    },
    {
      "cell_type": "code",
      "source": [
        "class employee:\n",
        "\n",
        "  def __init__(self):\n",
        "    self.__salary= 0\n",
        "    self.__name = \"\"\n",
        "\n",
        "\n",
        "  def set_name(self,name):\n",
        "    self.__name = name\n",
        "\n",
        "  def get_name(self):\n",
        "    print(f\"Employee name : {self.__name}\")\n",
        "\n",
        "  def set_salary(self,salary):\n",
        "    if salary<0:\n",
        "      print(\"Salary cannot be negative!\")\n",
        "    else:\n",
        "      self.__salary = salary\n",
        "\n",
        "  def get_salary(self):\n",
        "    print(f\"Employee {self.__name}'s salary : {self.__salary} \")\n",
        "\n",
        "\n",
        "  def increase_salary(self,percentage):\n",
        "    per_percentage = self.__salary/100\n",
        "    print(f\"Employee  {self.__name}'s updated Salary : {(percentage * percentage) + self.__salary}\")\n",
        "\n",
        "\n",
        "e=employee()\n",
        "e.set_name(\"Mubashir ep\")\n",
        "e.set_salary(50000)\n",
        "\n",
        "\n",
        "e.get_name()\n",
        "print()\n",
        "e.get_salary()\n",
        "print()\n",
        "e.increase_salary(10)"
      ],
      "metadata": {
        "colab": {
          "base_uri": "https://localhost:8080/"
        },
        "id": "xsc_srncdM4Z",
        "outputId": "c4db8bcf-75b0-4ec8-a98d-34f17971425f"
      },
      "execution_count": null,
      "outputs": [
        {
          "output_type": "stream",
          "name": "stdout",
          "text": [
            "Employee name : Mubashir ep\n",
            "\n",
            "Employee Mubashir ep's salary : 50000 \n",
            "\n",
            "Employee  Mubashir ep's updated Salary : 50100\n"
          ]
        }
      ]
    }
  ]
}